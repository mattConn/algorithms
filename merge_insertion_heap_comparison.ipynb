{
 "cells": [
  {
   "cell_type": "code",
   "execution_count": 39,
   "metadata": {},
   "outputs": [],
   "source": [
    "# insertion sort (in-place)\n",
    "\n",
    "def insertionSort(L):\n",
    "    \n",
    "    for i in range(1,len(L)):\n",
    "        j = i\n",
    "        \n",
    "        # swap elements if right is less than left.\n",
    "        while L[j] < L[j-1] and j-1 > -1: # bubble smallest down\n",
    "            L[j], L[j-1] = L[j-1], L[j] # swap\n",
    "\n",
    "            j -= 1"
   ]
  },
  {
   "cell_type": "code",
   "execution_count": 42,
   "metadata": {},
   "outputs": [],
   "source": [
    "# merge sort (returns copy)\n",
    "\n",
    "# merge two sorted arrays\n",
    "def merge(l,r):\n",
    "    output = []\n",
    "    \n",
    "    while len(l) > 0 and len(r) > 0 :\n",
    "        output.append(l.pop(0) if l[0] < r[0] else r.pop(0))\n",
    "        \n",
    "    output += (l if len(l) > 0 else r)\n",
    "    return output\n",
    "    \n",
    "            \n",
    "def mergeSort(L):\n",
    "    if len(L) > 1:\n",
    "        mid = len(L)//2\n",
    "        l = mergeSort(L[:mid])\n",
    "        r = mergeSort(L[mid:])\n",
    "\n",
    "        return merge(l,r)\n",
    "    else:\n",
    "        return L"
   ]
  },
  {
   "cell_type": "code",
   "execution_count": 49,
   "metadata": {},
   "outputs": [],
   "source": [
    "# def heapSort(L):\n",
    "    "
   ]
  },
  {
   "cell_type": "code",
   "execution_count": null,
   "metadata": {},
   "outputs": [],
   "source": []
  }
 ],
 "metadata": {
  "kernelspec": {
   "display_name": "Python 3",
   "language": "python",
   "name": "python3"
  },
  "language_info": {
   "codemirror_mode": {
    "name": "ipython",
    "version": 3
   },
   "file_extension": ".py",
   "mimetype": "text/x-python",
   "name": "python",
   "nbconvert_exporter": "python",
   "pygments_lexer": "ipython3",
   "version": "3.7.4"
  }
 },
 "nbformat": 4,
 "nbformat_minor": 2
}
