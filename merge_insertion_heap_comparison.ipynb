{
 "cells": [
  {
   "cell_type": "code",
   "execution_count": 37,
   "metadata": {},
   "outputs": [],
   "source": [
    "def insertionSort(L):\n",
    "    \n",
    "    for i in range(1,len(L)):\n",
    "        j = i\n",
    "        \n",
    "        # swap elements if right is less than left.\n",
    "        while L[j] < L[j-1] and j-1 > -1: # bubble smallest down\n",
    "            L[j], L[j-1] = L[j-1], L[j] # swap\n",
    "\n",
    "            j -= 1"
   ]
  },
  {
   "cell_type": "code",
   "execution_count": null,
   "metadata": {},
   "outputs": [],
   "source": [
    "# merge two sorted arrays\n",
    "def merge(l,r):\n",
    "    output = []\n",
    "    \n",
    "    while len(l) > 0 and len(r) > 0 :\n",
    "        output.append(l.pop(0) if l[0] < r[0] else r.pop(0))\n",
    "        \n",
    "    output += (l if len(l) > 0 else r)\n",
    "    return output\n",
    "    \n",
    "            \n",
    "def mergeSort(arr):\n",
    "    if len(arr) > 1:\n",
    "        mid = len(arr)//2\n",
    "        l = mergeSort(arr[:mid])\n",
    "        r = mergeSort(arr[mid:])\n",
    "\n",
    "        return merge(l,r)\n",
    "    else:\n",
    "        return arr\n",
    "\n",
    "L = [9,32,1,17,6,5]\n",
    "\n",
    "print(mergeSort(L))"
   ]
  }
 ],
 "metadata": {
  "kernelspec": {
   "display_name": "Python 3",
   "language": "python",
   "name": "python3"
  },
  "language_info": {
   "codemirror_mode": {
    "name": "ipython",
    "version": 3
   },
   "file_extension": ".py",
   "mimetype": "text/x-python",
   "name": "python",
   "nbconvert_exporter": "python",
   "pygments_lexer": "ipython3",
   "version": "3.7.4"
  }
 },
 "nbformat": 4,
 "nbformat_minor": 2
}
