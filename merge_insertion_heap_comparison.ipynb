{
 "cells": [
  {
   "cell_type": "code",
   "execution_count": 16,
   "metadata": {},
   "outputs": [],
   "source": [
    "import random\n",
    "import time"
   ]
  },
  {
   "cell_type": "code",
   "execution_count": 17,
   "metadata": {},
   "outputs": [],
   "source": [
    "# insertion sort (in-place)\n",
    "\n",
    "def insertionSort(L):\n",
    "    \n",
    "    for i in range(1,len(L)):\n",
    "        j = i\n",
    "        \n",
    "        # swap elements if right is less than left.\n",
    "        while L[j] < L[j-1] and j-1 > -1: # bubble smallest down\n",
    "            L[j], L[j-1] = L[j-1], L[j] # swap\n",
    "\n",
    "            j -= 1"
   ]
  },
  {
   "cell_type": "code",
   "execution_count": 18,
   "metadata": {},
   "outputs": [],
   "source": [
    "# merge sort (returns copy)\n",
    "\n",
    "# merge two sorted arrays\n",
    "def merge(l,r):\n",
    "    output = []\n",
    "    \n",
    "    while len(l) > 0 and len(r) > 0 :\n",
    "        output.append(l.pop(0) if l[0] < r[0] else r.pop(0))\n",
    "        \n",
    "    output += (l if len(l) > 0 else r)\n",
    "    return output\n",
    "    \n",
    "            \n",
    "def mergeSort(L):\n",
    "    if len(L) > 1:\n",
    "        mid = len(L)//2\n",
    "        l = mergeSort(L[:mid])\n",
    "        r = mergeSort(L[mid:])\n",
    "\n",
    "        return merge(l,r)\n",
    "    else:\n",
    "        return L"
   ]
  },
  {
   "cell_type": "code",
   "execution_count": 19,
   "metadata": {},
   "outputs": [],
   "source": [
    "def heapSort(L):\n",
    "    return"
   ]
  },
  {
   "cell_type": "code",
   "execution_count": 32,
   "metadata": {},
   "outputs": [
    {
     "name": "stdout",
     "output_type": "stream",
     "text": [
      "Input Size\tInsertion Sort\tMerge Sort\tHeap Sort\n",
      "100\t\t0.0021\t\t0.0013\t\t0.0\n",
      "1000\t\t0.1208\t\t0.0061\t\t0.0\n"
     ]
    }
   ],
   "source": [
    "# input sizes\n",
    "# sizes = [100, 1000, int(1e4), int(5e4), int(1e5), int(2e5)]\n",
    "sizes = [100, 1000]\n",
    "sorts = [insertionSort, mergeSort, heapSort]\n",
    "bound = 100\n",
    "\n",
    "print(f'Input Size\\tInsertion Sort\\tMerge Sort\\tHeap Sort')\n",
    "# time sorts for each input size\n",
    "for n in sizes:\n",
    "    # sequence of n random ints\n",
    "    sequence = [random.randint(0,bound) for i in range(n)]\n",
    "    \n",
    "    # call sorts and record times\n",
    "    times = {}\n",
    "    for f in sorts:\n",
    "        then = time.time() # starting time\n",
    "        f([*sequence]) # call function on clone of sequence\n",
    "        times[f.__name__] = round(time.time() - then, 4) # store finish time, rounded\n",
    "        \n",
    "    print(f'{n}\\t\\t{times[\"insertionSort\"]}\\t\\t{times[\"mergeSort\"]}\\t\\t{times[\"heapSort\"]}')"
   ]
  },
  {
   "cell_type": "code",
   "execution_count": null,
   "metadata": {},
   "outputs": [],
   "source": []
  }
 ],
 "metadata": {
  "kernelspec": {
   "display_name": "Python 3",
   "language": "python",
   "name": "python3"
  },
  "language_info": {
   "codemirror_mode": {
    "name": "ipython",
    "version": 3
   },
   "file_extension": ".py",
   "mimetype": "text/x-python",
   "name": "python",
   "nbconvert_exporter": "python",
   "pygments_lexer": "ipython3",
   "version": "3.6.4"
  }
 },
 "nbformat": 4,
 "nbformat_minor": 2
}
