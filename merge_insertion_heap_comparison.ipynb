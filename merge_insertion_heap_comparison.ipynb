{
 "cells": [
  {
   "cell_type": "markdown",
   "metadata": {},
   "source": [
    "### CSC382\n",
    "### Matthew Connelly\n",
    "### Project 4/5 - Merge, Insertion and Heap Sort Time Comparison\n",
    "### 4/9/20"
   ]
  },
  {
   "cell_type": "code",
   "execution_count": 149,
   "metadata": {},
   "outputs": [],
   "source": [
    "import random\n",
    "import time"
   ]
  },
  {
   "cell_type": "code",
   "execution_count": 150,
   "metadata": {},
   "outputs": [],
   "source": [
    "# insertion sort (in-place)\n",
    "\n",
    "def insertionSort(L):\n",
    "    \n",
    "    for i in range(1,len(L)):\n",
    "        j = i\n",
    "        \n",
    "        # swap elements if right is less than left.\n",
    "        while L[j] < L[j-1] and j-1 > -1: # bubble smallest down\n",
    "            L[j], L[j-1] = L[j-1], L[j] # swap\n",
    "\n",
    "            j -= 1"
   ]
  },
  {
   "cell_type": "code",
   "execution_count": 151,
   "metadata": {},
   "outputs": [],
   "source": [
    "# merge sort (returns copy)\n",
    "\n",
    "# merge two sorted arrays\n",
    "def merge(l,r):\n",
    "    output = []\n",
    "    \n",
    "    while len(l) > 0 and len(r) > 0 :\n",
    "        output.append(l.pop(0) if l[0] < r[0] else r.pop(0))\n",
    "        \n",
    "    output += (l if len(l) > 0 else r)\n",
    "    return output\n",
    "    \n",
    "            \n",
    "def mergeSort(L):\n",
    "    if len(L) > 1:\n",
    "        mid = len(L)//2\n",
    "        l = mergeSort(L[:mid])\n",
    "        r = mergeSort(L[mid:])\n",
    "\n",
    "        return merge(l,r)\n",
    "    else:\n",
    "        return L"
   ]
  },
  {
   "cell_type": "code",
   "execution_count": 152,
   "metadata": {},
   "outputs": [],
   "source": [
    "# heap sort\n",
    "\n",
    "def maxHeap(L, n, i):\n",
    "    # max of root and children\n",
    "    largest = i\n",
    "    l = (2 * i) + 1\n",
    "    r = (2 * i) + 2 \n",
    " \n",
    "    # compare left and right\n",
    "    if l < n and L[i] < L[l]:\n",
    "        largest = l\n",
    " \n",
    "    if r < n and L[largest] < L[r]:\n",
    "        largest = r\n",
    " \n",
    "    # if root is not largest, swap with largest found value \n",
    "    # and continue buliding heap\n",
    "    if largest != i:\n",
    "        L[i], L[largest] = L[largest], L[i]\n",
    "        maxHeap(L, n, largest)\n",
    "        \n",
    "def heapSort(L):\n",
    "    n = len(L)\n",
    " \n",
    "    # make heap\n",
    "    for i in range(n, -1, -1):\n",
    "        maxHeap(L, n, i)\n",
    " \n",
    "    \n",
    "    for i in range(n-1, 0, -1):\n",
    "        L[i], L[0] = L[0], L[i] # swap\n",
    "        \n",
    "        maxHeap(L, i, 0)"
   ]
  },
  {
   "cell_type": "code",
   "execution_count": 154,
   "metadata": {},
   "outputs": [],
   "source": [
    "# input sizes\n",
    "# skipping 2e5, takes too long\n",
    "sizes = [100, 1000, int(1e4), int(5e4), int(1e5)]\n",
    "# sizes = [100, 1000]\n",
    "sorts = [insertionSort, mergeSort, heapSort]\n",
    "bound = 100\n",
    "\n",
    "print(f'Input Size\\tInsertion Sort\\tMerge Sort\\tHeap Sort')\n",
    "# time sorts for each input size\n",
    "for n in sizes:\n",
    "    # sequence of n random ints\n",
    "    sequence = [random.randint(0,bound) for i in range(n)]\n",
    "    \n",
    "    # call sorts and record times\n",
    "    times = {}\n",
    "    for f in sorts:\n",
    "        then = time.time() # starting time\n",
    "        f([*sequence]) # call function on clone of sequence\n",
    "        # store finish time, rounded\n",
    "        times[f.__name__] = round(time.time() - then, 4)\n",
    "        \n",
    "    print(f'{n}\\t\\t{times[\"insertionSort\"]}\\t\\t{times[\"mergeSort\"]}\\t\\t{times[\"heapSort\"]}')"
   ]
  },
  {
   "cell_type": "markdown",
   "metadata": {},
   "source": [
    "```\n",
    "Input Size\tInsertion Sort\tMerge Sort\tHeap Sort\n",
    "100\t\t0.001\t\t0.0004\t\t0.0004\n",
    "1000\t\t0.1111\t\t0.0062\t\t0.0073\n",
    "10000\t\t11.4816\t\t0.0939\t\t0.1011\n",
    "50000\t\t305.8303\t\t0.8085\t\t0.5685\n",
    "100000\t\t1177.3292\t\t2.535\t\t1.2252\n",
    "```"
   ]
  }
 ],
 "metadata": {
  "kernelspec": {
   "display_name": "Python 3",
   "language": "python",
   "name": "python3"
  }
 },
 "nbformat": 4,
 "nbformat_minor": 2
}
