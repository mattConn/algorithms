{
 "cells": [
  {
   "cell_type": "markdown",
   "metadata": {},
   "source": [
    "### CSC382\n",
    "### Matthew Connelly\n",
    "### Project 3 - Average Case - Insertion Sort\n",
    "### 3/19/20"
   ]
  },
  {
   "cell_type": "code",
   "execution_count": 138,
   "metadata": {},
   "outputs": [],
   "source": [
    "import random"
   ]
  },
  {
   "cell_type": "code",
   "execution_count": 139,
   "metadata": {},
   "outputs": [],
   "source": [
    "# returns number of comparisons during insertion\n",
    "def insertionMod(L):\n",
    "    \n",
    "    # number of basic ops (comparisons).\n",
    "    # every element will be compared to its neighbor at least once (length-1).\n",
    "    steps = len(L)-1\n",
    "    \n",
    "    for i in range(1,len(L)):\n",
    "        j = i\n",
    "        \n",
    "        # swap elements if right is less than left.\n",
    "        # every swap will be followed by a comparison.\n",
    "        while L[j] < L[j-1] and j-1 > -1:\n",
    "            steps += 1 # count the loop's comparison\n",
    "            L[j], L[j-1] = L[j-1], L[j] # swap\n",
    "            j -= 1\n",
    "    \n",
    "    return steps"
   ]
  },
  {
   "cell_type": "code",
   "execution_count": 141,
   "metadata": {},
   "outputs": [
    {
     "name": "stdout",
     "output_type": "stream",
     "text": [
      "input size | calc. average | real average\n",
      "100 2575.0 2576.423\n",
      "500 62875.0 62792.052\n",
      "1000 250750.0 250517.503\n",
      "2500 1564375.0 1563149.704\n",
      "3000 2252250.0 2250854.621\n",
      "3500 3065125.0 3063570.867\n"
     ]
    }
   ],
   "source": [
    "N = [100, 500, 1000, 2500, 3000, 3500]\n",
    "bound = 1000\n",
    "\n",
    "print(\"input size | calc. average | real average\")\n",
    "\n",
    "for n in N:\n",
    "    totalSteps = 0\n",
    "    \n",
    "    # NOTE: generating 1000 sequences instead of 100,000 (taking too long)\n",
    "    for i in range(int(1e3)):\n",
    "        # sequence of n random ints, each bound and randomly signed\n",
    "        sequence = [(1 if random.randint(1,2) % 2 else -1) * random.randint(0,bound) for i in range(n)]\n",
    "        totalSteps += insertionMod(sequence)\n",
    "    \n",
    "    # store n, calculated average, real average\n",
    "    print(n, (n**2 + n)/4 + n/2, totalSteps/1e3)\n",
    "    \n"
   ]
  }
 ],
 "metadata": {
  "kernelspec": {
   "display_name": "Python 3",
   "language": "python",
   "name": "python3"
  },
  "language_info": {
   "codemirror_mode": {
    "name": "ipython",
    "version": 3
   },
   "file_extension": ".py",
   "mimetype": "text/x-python",
   "name": "python",
   "nbconvert_exporter": "python",
   "pygments_lexer": "ipython3",
   "version": "3.6.4"
  }
 },
 "nbformat": 4,
 "nbformat_minor": 2
}
