{
 "cells": [
  {
   "cell_type": "markdown",
   "metadata": {},
   "source": [
    "### CSC382\n",
    "### Matthew Connelly\n",
    "### Project 2 - Average Case\n",
    "### 2/9/20"
   ]
  },
  {
   "cell_type": "code",
   "execution_count": 100,
   "metadata": {},
   "outputs": [],
   "source": [
    "import random"
   ]
  },
  {
   "cell_type": "code",
   "execution_count": 101,
   "metadata": {},
   "outputs": [],
   "source": [
    "# returns pos of 1st x in A or 0\n",
    "def find(x, A):\n",
    "    for i in range(len(A)):\n",
    "        if x == A[i]:\n",
    "            return i+1\n",
    "    \n",
    "    return 0"
   ]
  },
  {
   "cell_type": "code",
   "execution_count": 102,
   "metadata": {},
   "outputs": [],
   "source": [
    "# compare averages\n",
    "def compAverages(bound):\n",
    "    n = 50\n",
    "    x = 5\n",
    "    hits = 0\n",
    "\n",
    "    sequences = []\n",
    "\n",
    "    # create 10,000 x 50 2d array\n",
    "    for i in range(10**4):\n",
    "        # random number seq\n",
    "        sequences.append([random.randint(0,bound) for n in range(n)])\n",
    "\n",
    "    # part 1 - calculated avg\n",
    "\n",
    "    for seq in sequences:\n",
    "        if(find(x,seq) > 0): hits+=1\n",
    "\n",
    "    q = hits/10**4\n",
    "\n",
    "    # part 2 - real avg\n",
    "\n",
    "    totalSteps = 0\n",
    "\n",
    "    for seq in sequences:\n",
    "        # step count == position of x or len. of seq\n",
    "        totalSteps += (find(x,seq) if find(x,seq) > 0 else len(seq))\n",
    "        \n",
    "    # display bound, calculated avg. and real avg.\n",
    "    calcAvg = n - q*n/2 + q/2\n",
    "    realAvg = totalSteps/10**4\n",
    "    print(bound, \"|\", round(calcAvg,4), \"|\", round(realAvg,4))"
   ]
  },
  {
   "cell_type": "code",
   "execution_count": 103,
   "metadata": {
    "scrolled": false
   },
   "outputs": [
    {
     "name": "stdout",
     "output_type": "stream",
     "text": [
      "Bound | Calculated Average | Real Average\n",
      "30 | 30.1501 | 25.1457\n",
      "50 | 34.6875 | 32.1547\n",
      "80 | 38.5658 | 37.37\n",
      "100 | 40.3445 | 39.5286\n",
      "1000 | 48.8314 | 48.8226\n",
      "10000 | 49.8751 | 49.8935\n"
     ]
    }
   ],
   "source": [
    "bounds = [30, 50, 80, 10**2, 10**3, 10**4]\n",
    "print(\"Bound | Calculated Average | Real Average\")\n",
    "for b in bounds:\n",
    "    compAverages(b)"
   ]
  }
 ],
 "metadata": {
  "kernelspec": {
   "display_name": "Python 3",
   "language": "python",
   "name": "python3"
  },
  "language_info": {
   "codemirror_mode": {
    "name": "ipython",
    "version": 3
   },
   "file_extension": ".py",
   "mimetype": "text/x-python",
   "name": "python",
   "nbconvert_exporter": "python",
   "pygments_lexer": "ipython3",
   "version": "3.6.4"
  }
 },
 "nbformat": 4,
 "nbformat_minor": 2
}
