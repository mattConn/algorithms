{
 "cells": [
  {
   "cell_type": "code",
   "execution_count": 259,
   "metadata": {},
   "outputs": [
    {
     "name": "stdout",
     "output_type": "stream",
     "text": [
      "[1, 5, 6, 9, 17, 32]\n"
     ]
    }
   ],
   "source": [
    "# merge two sorted arrays\n",
    "def merge(l,r):\n",
    "    output = []\n",
    "    \n",
    "    while len(l) > 0 and len(r) > 0 :\n",
    "        output.append(l.pop(0) if l[0] < r[0] else r.pop(0))\n",
    "        \n",
    "    output += (l if len(l) > 0 else r)\n",
    "    return output\n",
    "    \n",
    "            \n",
    "def mergeSort(arr):\n",
    "    if len(arr) > 1:\n",
    "        mid = len(arr)//2\n",
    "        l = mergeSort(arr[:mid])\n",
    "        r = mergeSort(arr[mid:])\n",
    "\n",
    "        return merge(l,r)\n",
    "    else:\n",
    "        return arr\n",
    "\n",
    "L = [9,32,1,17,6,5]\n",
    "\n",
    "print(mergeSort(L))"
   ]
  },
  {
   "cell_type": "code",
   "execution_count": null,
   "metadata": {},
   "outputs": [],
   "source": []
  }
 ],
 "metadata": {
  "kernelspec": {
   "display_name": "Python 3",
   "language": "python",
   "name": "python3"
  },
  "language_info": {
   "codemirror_mode": {
    "name": "ipython",
    "version": 3
   },
   "file_extension": ".py",
   "mimetype": "text/x-python",
   "name": "python",
   "nbconvert_exporter": "python",
   "pygments_lexer": "ipython3",
   "version": "3.6.4"
  }
 },
 "nbformat": 4,
 "nbformat_minor": 2
}
